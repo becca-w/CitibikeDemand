{
 "cells": [
  {
   "cell_type": "code",
   "execution_count": null,
   "metadata": {},
   "outputs": [],
   "source": [
    "import pandas as pd\n",
    "\n",
    "citibike2016_df = pd.DataFrame()\n",
    "\n",
    "#combine all trip data CSVs of 2016\n",
    "for year in [2016]:\n",
    "    for month in range(1,13):\n",
    "        df = pd.read_csv('https://s3.amazonaws.com/tripdata/'+str(year)+str(month).zfill(2)+'-citibike-tripdata.zip', compression='zip', header=0, sep=',', quotechar='\"')\n",
    "        citibike2016_df = citibike2016_df.append(df)\n",
    "        "
   ]
  },
  {
   "cell_type": "code",
   "execution_count": null,
   "metadata": {},
   "outputs": [],
   "source": [
    "citibike2016_df.head()"
   ]
  }
 ],
 "metadata": {
  "kernelspec": {
   "display_name": "Python 3",
   "language": "python",
   "name": "python3"
  },
  "language_info": {
   "codemirror_mode": {
    "name": "ipython",
    "version": 3
   },
   "file_extension": ".py",
   "mimetype": "text/x-python",
   "name": "python",
   "nbconvert_exporter": "python",
   "pygments_lexer": "ipython3",
   "version": "3.5.2"
  }
 },
 "nbformat": 4,
 "nbformat_minor": 2
}
